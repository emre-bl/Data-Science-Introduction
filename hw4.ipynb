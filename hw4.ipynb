{
 "cells": [
  {
   "cell_type": "markdown",
   "metadata": {},
   "source": [
    "## **YAP 101 Homework-4**  \n",
    "Due Date: 31 March 2022 23:59\n",
    "\n",
    "Upload your files to uzak.etu.edu.tr"
   ]
  },
  {
   "cell_type": "code",
   "execution_count": 67,
   "metadata": {},
   "outputs": [],
   "source": [
    "# Run this cell first. If this library is not installed on your computer, try running \"pip install datascience\"\n",
    "from datascience import * "
   ]
  },
  {
   "cell_type": "markdown",
   "metadata": {},
   "source": [
    "**Question 1 (5 Points)**. We want to predict energy use of appliances. Please load the hw4.csv data uploaded on uzak.etu system. The data has 11 columns for this task.\n",
    "\n",
    "date --> time in the format of year-month-day hour:minute:second \n",
    "\n",
    "Appliances --> energy use in Wh\n",
    "\n",
    "lights --> energy use of light fixtures in the house in Wh\n",
    "\n",
    "T1 --> Temperature in kitchen area, in Celsius\n",
    "\n",
    "RH_1 --> Humidity in kitchen area, in %\n",
    "\n",
    "T2 --> Temperature in living room area, in Celsius\n",
    "\n",
    "RH_2 --> Humidity in living room area, in %\n",
    "\n",
    "T3 --> Temperature in laundry room area\n",
    "\n",
    "RH_3 --> Humidity in laundry room area, in %\n",
    "\n",
    "T4 --> Temperature in office room, in Celsius\n",
    "\n",
    "RH_4 --> Humidity in office room, in %T\n",
    "\n",
    "The first 80 percent of the data should be used for training and the other remaning 20 percent should be used for testing.  Divide the data accordingly."
   ]
  },
  {
   "cell_type": "code",
   "execution_count": 68,
   "metadata": {},
   "outputs": [],
   "source": [
    "# write your answer here\n",
    "\n",
    "import numpy as np\n",
    "import pandas as pd\n",
    "\n",
    "energy_use = pd.read_csv(\"hw4.csv\")\n",
    "shuffled = energy_use.sample(energy_use.shape[0],replace=False)\n",
    "train = shuffled.take(range(int(energy_use.shape[0]*8/10)))\n",
    "test = shuffled.take(range(int(energy_use.shape[0]*8/10),int(energy_use.shape[0])))"
   ]
  },
  {
   "cell_type": "markdown",
   "metadata": {},
   "source": [
    "**Question 2 (15 Points)** For each column in the table (except date and Appliances column), calculate the  correlation with Appliances **using the train data**. Print each column name and calculated  correlation.  Do not use any library except numpy and pandas."
   ]
  },
  {
   "cell_type": "code",
   "execution_count": 69,
   "metadata": {},
   "outputs": [],
   "source": [
    "def standard_units(any_numbers):\n",
    "    \"Convert any array of numbers to standard units.\"\n",
    "    return (any_numbers - np.mean(any_numbers))/np.std(any_numbers)"
   ]
  },
  {
   "cell_type": "code",
   "execution_count": 70,
   "metadata": {},
   "outputs": [],
   "source": [
    "def correlation(t, x, y):\n",
    "    return np.mean(standard_units(t[x])*standard_units(t[y]))"
   ]
  },
  {
   "cell_type": "code",
   "execution_count": 71,
   "metadata": {},
   "outputs": [
    {
     "name": "stdout",
     "output_type": "stream",
     "text": [
      "lights : 0.3578438427263368\n",
      "T1 : 0.12170309133524403\n",
      "RH_1 : 0.012236898982406999\n",
      "T2 : 0.13456353933867923\n",
      "RH_2 : -0.13025878887702713\n",
      "T3 : 0.1201566521469893\n",
      "RH_3 : 0.007223746246476937\n",
      "T4 : 0.15044517165116789\n",
      "RH_4 : -0.07334053353446139\n"
     ]
    }
   ],
   "source": [
    "c = train.columns.values\n",
    "for i in range(2,11):\n",
    "    print(c[i],\":\",correlation(train,\"Appliances\",c[i]))"
   ]
  },
  {
   "cell_type": "markdown",
   "metadata": {},
   "source": [
    "**Question 3 (10 Points)** For the column that has the highest  correlation, calculate the slope and intersept of the linear regression line. "
   ]
  },
  {
   "cell_type": "code",
   "execution_count": 72,
   "metadata": {},
   "outputs": [],
   "source": [
    "def slope(t, label_x, label_y):\n",
    "    r = correlation(t, label_x, label_y)\n",
    "    return r*np.std(t[label_y])/np.std(t[label_x])\n",
    "\n",
    "def intercept(t, label_x, label_y):\n",
    "    return np.mean(t[label_y]) - slope(t, label_x, label_y)*np.mean(t[label_x])"
   ]
  },
  {
   "cell_type": "code",
   "execution_count": 73,
   "metadata": {},
   "outputs": [
    {
     "name": "stdout",
     "output_type": "stream",
     "text": [
      "Slope : 0.029438209165539957\n",
      "Intercept : 2.7108290880640022\n"
     ]
    }
   ],
   "source": [
    "print(\"Slope :\",slope(train,\"Appliances\",\"lights\"))\n",
    "print(\"Intercept :\",intercept(train,\"Appliances\",\"lights\"))"
   ]
  },
  {
   "cell_type": "markdown",
   "metadata": {},
   "source": [
    "**Question 4 (5 Points)** Plot the regression line on a scatter plot."
   ]
  },
  {
   "cell_type": "code",
   "execution_count": 74,
   "metadata": {},
   "outputs": [
    {
     "data": {
      "text/plain": [
       "<seaborn.axisgrid.FacetGrid at 0x26d080c66d0>"
      ]
     },
     "execution_count": 74,
     "metadata": {},
     "output_type": "execute_result"
    },
    {
     "data": {
      "image/png": "[encoded data removed]",
      "text/plain": [
       "<Figure size 360x360 with 1 Axes>"
      ]
     },
     "metadata": {
      "needs_background": "light"
     },
     "output_type": "display_data"
    }
   ],
   "source": [
    "import seaborn as sns\n",
    "%matplotlib inline\n",
    "\n",
    "sns.lmplot(x = \"Appliances\",y = \"lights\", data = train, fit_reg = True)"
   ]
  },
  {
   "cell_type": "markdown",
   "metadata": {},
   "source": [
    "**Question 5(5 Points)**. What is the root mean square error for the regression line **using training data**?"
   ]
  },
  {
   "cell_type": "code",
   "execution_count": 75,
   "metadata": {},
   "outputs": [
    {
     "name": "stdout",
     "output_type": "stream",
     "text": [
      "RMSE : 8.82148103836797\n"
     ]
    }
   ],
   "source": [
    "x = train[\"Appliances\"].values\n",
    "y = train[\"lights\"].values\n",
    "fitted = slope(train,\"Appliances\",\"lights\")*x + intercept(train,\"Appliances\",\"lights\")\n",
    "rmse = (np.mean((y - fitted) ** 2))**0.5\n",
    "\n",
    "print(\"RMSE :\",rmse)\n"
   ]
  },
  {
   "cell_type": "markdown",
   "metadata": {},
   "source": [
    "**Question 6 (20 Points)** For each column, try to fit a non-linear regression line (ax2 + bx + c) and calculate their rmse scores **using training data**."
   ]
  },
  {
   "cell_type": "code",
   "execution_count": 76,
   "metadata": {},
   "outputs": [
    {
     "name": "stdout",
     "output_type": "stream",
     "text": [
      "lights : 8.595406987743376\n",
      "T1 : 1.4899005540556485\n",
      "RH_1 : 3.0148668549765794\n",
      "T2 : 1.5596110370848217\n",
      "RH_2 : 2.5528683232309453\n",
      "T3 : 1.4018153105256512\n",
      "RH_3 : 2.2944296463420013\n",
      "T4 : 1.5093877941523002\n",
      "RH_4 : 3.494898676251611\n"
     ]
    }
   ],
   "source": [
    "def rmse_for_column(col):\n",
    "    def rmse_nonlinear(a,b,c):\n",
    "        x  = train[\"Appliances\"]\n",
    "        y  = train[col]\n",
    "        fitted = a*x*x + b*x + c\n",
    "        return np.mean((y-fitted) ** 2) ** 0.5\n",
    "    return rmse_nonlinear\n",
    "\n",
    "for i in train.columns.values[2:]:\n",
    "    temp = rmse_for_column(i)\n",
    "    [a,b,c]= minimize(temp)\n",
    "    print(i,\":\",temp(a,b,c))"
   ]
  },
  {
   "cell_type": "markdown",
   "metadata": {},
   "source": [
    "**Question 7(10 Points)**. **On test set**, find rmse value using the linear regression line you found in Question 3 "
   ]
  },
  {
   "cell_type": "code",
   "execution_count": 77,
   "metadata": {},
   "outputs": [
    {
     "name": "stdout",
     "output_type": "stream",
     "text": [
      "rmse : 9.14843667067245\n"
     ]
    }
   ],
   "source": [
    "def rmse(a,b):\n",
    "    x  = train[\"Appliances\"]\n",
    "    y  = train[\"lights\"]\n",
    "    fitted = a*x + b\n",
    "    return np.mean((y-fitted) ** 2) ** 0.5\n",
    "\n",
    "[a,b] = minimize(rmse)\n",
    "\n",
    "temp = (np.array(test[\"lights\"])-(np.array(test[\"Appliances\"])*a + b))**2\n",
    "\n",
    "print(\"rmse :\", np.mean(temp)**0.5)"
   ]
  },
  {
   "cell_type": "markdown",
   "metadata": {},
   "source": [
    "**Question 8 (10 Points)**. **On test set**, find rmse value using the non-linear regression line you found in Question 6 with the lowest rmse score."
   ]
  },
  {
   "cell_type": "code",
   "execution_count": 78,
   "metadata": {},
   "outputs": [
    {
     "name": "stdout",
     "output_type": "stream",
     "text": [
      "rmse for non_linear regression line : 1.3747631720080642\n"
     ]
    }
   ],
   "source": [
    "temp = rmse_for_column(\"T3\")\n",
    "[a,b,c]= minimize(temp)\n",
    "x = np.array(test[\"Appliances\"])\n",
    "y = np.array(test[\"T3\"])\n",
    "\n",
    "fitted = a*x*x + b*x + c\n",
    "temp = np.mean((y-fitted)**2)**0.5\n",
    "\n",
    "print(\"rmse for non_linear regression line :\",temp)"
   ]
  },
  {
   "cell_type": "markdown",
   "metadata": {},
   "source": [
    "**Question 9 (15 Points)**. You will predict the appliances value using a linear regression model with two different features. That is, your prediction function will be like this: f(x1,x2) = ax1 + bx2 +c \n",
    "Find the x1 and x2 feature pair which yields the lowest rmse score on **the train set**.\n",
    "\n"
   ]
  },
  {
   "cell_type": "code",
   "execution_count": 79,
   "metadata": {},
   "outputs": [],
   "source": [
    "def rmse_for_columns(col1,col2,df):\n",
    "    def rmse_linear(a,b,c):\n",
    "        x1  = df[col1]\n",
    "        x2  = df[col2]\n",
    "        y = df[\"Appliances\"]\n",
    "        fitted = a*x1 + b*x2 + c\n",
    "        return np.mean((y-fitted) ** 2) ** 0.5\n",
    "    return rmse_linear"
   ]
  },
  {
   "cell_type": "code",
   "execution_count": 80,
   "metadata": {},
   "outputs": [],
   "source": [
    "min_rmse = 10000\n",
    "min_cols = []\n",
    "col = train.columns\n",
    "for i in range(2,train.shape[1]):\n",
    "    for j in range(i+1,train.shape[1]):\n",
    "        temp = rmse_for_columns(col[i],col[j],train)\n",
    "        [a,b,c] = minimize(temp)\n",
    "        if temp(a,b,c) < min_rmse:\n",
    "            if len(min_cols) == 1:\n",
    "                min_cols.pop(0) \n",
    "            min_cols.append([col[i],col[j]])"
   ]
  },
  {
   "cell_type": "code",
   "execution_count": 81,
   "metadata": {},
   "outputs": [
    {
     "data": {
      "text/plain": [
       "[['T4', 'RH_4']]"
      ]
     },
     "execution_count": 81,
     "metadata": {},
     "output_type": "execute_result"
    }
   ],
   "source": [
    "min_cols"
   ]
  },
  {
   "cell_type": "markdown",
   "metadata": {},
   "source": [
    "**Question 10 (5 Points)**. Find the rmse value of the linear regression model you find in Question 9 on the **test set**."
   ]
  },
  {
   "cell_type": "code",
   "execution_count": 82,
   "metadata": {},
   "outputs": [
    {
     "data": {
      "text/plain": [
       "113.24571867268003"
      ]
     },
     "execution_count": 82,
     "metadata": {},
     "output_type": "execute_result"
    }
   ],
   "source": [
    "emp = rmse_for_columns(\"T4\",\"RH_4\",test)\n",
    "[a,b,c] = minimize(temp)\n",
    "temp(a,b,c)"
   ]
  },
  {
   "cell_type": "code",
   "execution_count": null,
   "metadata": {},
   "outputs": [],
   "source": []
  }
 ],
 "metadata": {
  "kernelspec": {
   "display_name": "Python 3 (ipykernel)",
   "language": "python",
   "name": "python3"
  },
  "language_info": {
   "codemirror_mode": {
    "name": "ipython",
    "version": 3
   },
   "file_extension": ".py",
   "mimetype": "text/x-python",
   "name": "python",
   "nbconvert_exporter": "python",
   "pygments_lexer": "ipython3",
   "version": "3.9.7"
  }
 },
 "nbformat": 4,
 "nbformat_minor": 4
}
