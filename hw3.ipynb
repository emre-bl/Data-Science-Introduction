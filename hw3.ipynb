{
 "cells": [
  {
   "cell_type": "markdown",
   "metadata": {},
   "source": [
    "## **YAP 101 Homework-3**  \n",
    "Due Date: 19 March 2020 23:59\n",
    "\n",
    "Upload your files to uzak.etu.edu.tr"
   ]
  },
  {
   "cell_type": "markdown",
   "metadata": {},
   "source": [
    "**Question 1 (50 Points).** Several years ago, there was a documentary on Discovery Channel about a Russian girl who claims that she can find the previously injured body parts of the people by just looking at them. The local people were convinced about the girl's talent. It was amazing because she just looks at the people and says \"you had an operation or have a problem here\" etc. The producer of the document also challenges her talent and he is also shocked that she could find an old injury he had some time ago. So he takes her to US to show scientists and ask them to test her talent. The scientists set up an experiment where there are seven people with known medical history. They write down the medical history of each person and shuffle the cards. Then they ask the girl to match the cards with the correct people. If she can correctly match 5 of them, they will think that she has really some talent in this issue. Note that she cannot have 6 matches because one mistake will also cause another mistake. However, she could correctly match only 4 of them. So they thought that her talent is bogus and did not believe her. \n",
    "\n",
    "More formally, their null hypothesis is \"people can have four matches even though they select randomly\" and alternative hypothesis is \"the girl has a talent because it is not likely to have 4 matches if she selects randomly\"\n",
    "\n",
    "So the scientists accepted the null hypothesis. Would you also accept the null hypothesis? Why/Why not?"
   ]
  },
  {
   "cell_type": "code",
   "execution_count": 1,
   "metadata": {},
   "outputs": [],
   "source": [
    "import pandas as pd\n",
    "import numpy as np\n",
    "from math import factorial\n",
    "\n",
    "arr = [0,1,2,3,4,5,6]\n",
    "\n",
    "def numOfCor(x): #for calculating number of correct selections on randomly sampled array has\n",
    "    numOf = 7\n",
    "    for i in range(7):\n",
    "        if x[i] != i:\n",
    "            numOf-=1\n",
    "    return numOf\n",
    "\n",
    "def simulation(time,origin):\n",
    "    df = pd.DataFrame({\"People\":origin})\n",
    "    numOfArray = [] #holds number of mistakes for each trials\n",
    "    for i in range(time):\n",
    "        mixedSample = df.sample(7, replace = False)[\"People\"].array\n",
    "        numOfArray.append(numOfCor(mixedSample))\n",
    "        \n",
    "    return numOfArray    "
   ]
  },
  {
   "cell_type": "code",
   "execution_count": 2,
   "metadata": {},
   "outputs": [
    {
     "data": {
      "image/png": "[encoded data removed]",
      "text/plain": [
       "<Figure size 432x288 with 1 Axes>"
      ]
     },
     "metadata": {
      "needs_background": "light"
     },
     "output_type": "display_data"
    }
   ],
   "source": [
    "def p(times,which):\n",
    "    if which == 6:\n",
    "        return 0\n",
    "    prob = []\n",
    "    for i in range(times):\n",
    "        sim = simulation(1000,arr)\n",
    "        df = pd.DataFrame({\"value\" : sim,\"num\" : 1})\n",
    "        df = df.groupby(\"value\").count()\n",
    "        df = df.apply(lambda x: (x/1000)*100) #probability calculation as a percentage\n",
    "        if which in df.index:\n",
    "            prob.append(df.loc[which][0])\n",
    "    df = pd.DataFrame(prob)\n",
    "    df.plot(kind = \"hist\")\n",
    "    \n",
    "p(100,4)"
   ]
  },
  {
   "cell_type": "markdown",
   "metadata": {},
   "source": [
    "Suppose we run our test at the five percent significance level each time. We will reject our null hypothesis if anyone randomly gets 4 correct in 5 or less of 100 trials. As you can see we did our simulation for 100 times and every probability is less than 5. Our null hypothesis seems very unlikely. So I wouldn't accept the null hypothesis."
   ]
  },
  {
   "cell_type": "markdown",
   "metadata": {},
   "source": [
    "**Question 2 (30 Points)** Out of seven people, the girl tries to macth diseases with the people. Let N be the number of her correct matches. For which values of N, you would accept the alternative hypothesis? Justify your answer."
   ]
  },
  {
   "cell_type": "markdown",
   "metadata": {},
   "source": [
    "**First look at the probability distribution of all possible values of N.**"
   ]
  },
  {
   "cell_type": "code",
   "execution_count": 3,
   "metadata": {},
   "outputs": [
    {
     "name": "stdout",
     "output_type": "stream",
     "text": [
      "Zero:\n"
     ]
    },
    {
     "data": {
      "image/png": "[encoded data removed]",
      "text/plain": [
       "<Figure size 432x288 with 1 Axes>"
      ]
     },
     "metadata": {
      "needs_background": "light"
     },
     "output_type": "display_data"
    }
   ],
   "source": [
    "print(\"Zero:\")\n",
    "p(100,0)"
   ]
  },
  {
   "cell_type": "code",
   "execution_count": 4,
   "metadata": {},
   "outputs": [
    {
     "name": "stdout",
     "output_type": "stream",
     "text": [
      "One:\n"
     ]
    },
    {
     "data": {
      "image/png": "[encoded data removed]",
      "text/plain": [
       "<Figure size 432x288 with 1 Axes>"
      ]
     },
     "metadata": {
      "needs_background": "light"
     },
     "output_type": "display_data"
    }
   ],
   "source": [
    "print(\"One:\")\n",
    "p(100,1)"
   ]
  },
  {
   "cell_type": "code",
   "execution_count": 5,
   "metadata": {},
   "outputs": [
    {
     "name": "stdout",
     "output_type": "stream",
     "text": [
      "Two:\n"
     ]
    },
    {
     "data": {
      "image/png": "[encoded data removed]",
      "text/plain": [
       "<Figure size 432x288 with 1 Axes>"
      ]
     },
     "metadata": {
      "needs_background": "light"
     },
     "output_type": "display_data"
    }
   ],
   "source": [
    "print(\"Two:\")\n",
    "p(100,2)"
   ]
  },
  {
   "cell_type": "code",
   "execution_count": 6,
   "metadata": {},
   "outputs": [
    {
     "name": "stdout",
     "output_type": "stream",
     "text": [
      "Three:\n"
     ]
    },
    {
     "data": {
      "image/png": "[encoded data removed]",
      "text/plain": [
       "<Figure size 432x288 with 1 Axes>"
      ]
     },
     "metadata": {
      "needs_background": "light"
     },
     "output_type": "display_data"
    }
   ],
   "source": [
    "print(\"Three:\")\n",
    "p(100,3)"
   ]
  },
  {
   "cell_type": "code",
   "execution_count": 7,
   "metadata": {},
   "outputs": [
    {
     "name": "stdout",
     "output_type": "stream",
     "text": [
      "Four:\n"
     ]
    },
    {
     "data": {
      "image/png": "[encoded data removed]",
      "text/plain": [
       "<Figure size 432x288 with 1 Axes>"
      ]
     },
     "metadata": {
      "needs_background": "light"
     },
     "output_type": "display_data"
    }
   ],
   "source": [
    "print(\"Four:\")\n",
    "p(100,4)"
   ]
  },
  {
   "cell_type": "code",
   "execution_count": 8,
   "metadata": {},
   "outputs": [
    {
     "name": "stdout",
     "output_type": "stream",
     "text": [
      "Five\n"
     ]
    },
    {
     "data": {
      "image/png": "[encoded data removed]",
      "text/plain": [
       "<Figure size 432x288 with 1 Axes>"
      ]
     },
     "metadata": {
      "needs_background": "light"
     },
     "output_type": "display_data"
    }
   ],
   "source": [
    "print(\"Five\")\n",
    "p(100,5)"
   ]
  },
  {
   "cell_type": "code",
   "execution_count": 9,
   "metadata": {},
   "outputs": [
    {
     "name": "stdout",
     "output_type": "stream",
     "text": [
      "Seven\n"
     ]
    },
    {
     "data": {
      "image/png": "[encoded data removed]",
      "text/plain": [
       "<Figure size 432x288 with 1 Axes>"
      ]
     },
     "metadata": {
      "needs_background": "light"
     },
     "output_type": "display_data"
    }
   ],
   "source": [
    "print(\"Seven\")\n",
    "p(100,7)"
   ]
  },
  {
   "cell_type": "markdown",
   "metadata": {},
   "source": [
    "As can be seen from the distributions, the probabilities started to drop below five percent after N=4. I would only accept the values of N=4,5,7. The probability of other values is more possible than these."
   ]
  },
  {
   "cell_type": "markdown",
   "metadata": {},
   "source": [
    "**Question 3 (20 Points)** The scientists would believe her if she had five matches. Let us assume that she has not five, but seven matches.  Then would you still question her talent? If you would question her talent, why?"
   ]
  },
  {
   "cell_type": "markdown",
   "metadata": {},
   "source": []
  },
  {
   "cell_type": "markdown",
   "metadata": {},
   "source": [
    "According to our simulations, the probability of 7 is lower than the probability of 5. Even 7 does not happen at all in some simulations. Therefore, I accept our alternative hypothesis even if it has seven truths. But I still question her ability because N=7 is possible, although unlikely."
   ]
  },
  {
   "cell_type": "code",
   "execution_count": null,
   "metadata": {},
   "outputs": [],
   "source": []
  }
 ],
 "metadata": {
  "kernelspec": {
   "display_name": "Python 3 (ipykernel)",
   "language": "python",
   "name": "python3"
  },
  "language_info": {
   "codemirror_mode": {
    "name": "ipython",
    "version": 3
   },
   "file_extension": ".py",
   "mimetype": "text/x-python",
   "name": "python",
   "nbconvert_exporter": "python",
   "pygments_lexer": "ipython3",
   "version": "3.9.7"
  }
 },
 "nbformat": 4,
 "nbformat_minor": 1
}
