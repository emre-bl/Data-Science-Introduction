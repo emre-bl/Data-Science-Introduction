{
 "cells": [
  {
   "cell_type": "markdown",
   "id": "6b03e59f",
   "metadata": {},
   "source": [
    "**YAP 101 Homework-1**  \n",
    "Due Date: 8 February 2022 23:59"
   ]
  },
  {
   "cell_type": "markdown",
   "id": "6c6a8dfc",
   "metadata": {},
   "source": [
    "**Q1 [15 Points]** \n",
    "\n",
    "Let a be a 1x4 matrix where its elements are [1,2,3,4]\n",
    "\n",
    "Let b be a 4x1 matrix where its elements are [1,2,3,4] (i.e., transpose of a)\n",
    "\n",
    "Then find the result of a*b  without using any library\n",
    "\n",
    "Note: For matrix-matirx multiplications you can check https://mathinsight.org/matrix_vector_multiplication"
   ]
  },
  {
   "cell_type": "code",
   "execution_count": 11,
   "id": "c12ba5f6",
   "metadata": {},
   "outputs": [
    {
     "name": "stdout",
     "output_type": "stream",
     "text": [
      "30\n"
     ]
    }
   ],
   "source": [
    "a = [1,2,3,4]\n",
    "b = [1,2,3,4]\n",
    "\n",
    "c = 0\n",
    "\n",
    "\n",
    "for i in range(0,4):\n",
    "    c += a[i]*b[i]\n",
    "\n",
    "print(c)\n",
    "    \n"
   ]
  },
  {
   "cell_type": "markdown",
   "id": "9e3e13e5",
   "metadata": {},
   "source": [
    "**Q2 [5 points]** Find the result of a*b using numpy"
   ]
  },
  {
   "cell_type": "code",
   "execution_count": 16,
   "id": "cd641335",
   "metadata": {},
   "outputs": [
    {
     "name": "stdout",
     "output_type": "stream",
     "text": [
      "30\n"
     ]
    }
   ],
   "source": [
    "import numpy as np\n",
    "\n",
    "a = np.array([1,2,3,4])\n",
    "b = a.T\n",
    "\n",
    "c = np.dot(a,b)\n",
    "\n",
    "print(c)"
   ]
  },
  {
   "cell_type": "markdown",
   "id": "df7f45e4",
   "metadata": {},
   "source": [
    "**Q3  [20 points]**  Write a function which returns true if the given parameter is a palindrome. Otherwise, it should return False.\n",
    "\n",
    "You cannot write recursive function for this question. You should not use any library."
   ]
  },
  {
   "cell_type": "code",
   "execution_count": 3,
   "id": "6a1456b0",
   "metadata": {},
   "outputs": [
    {
     "data": {
      "text/plain": [
       "True"
      ]
     },
     "execution_count": 3,
     "metadata": {},
     "output_type": "execute_result"
    }
   ],
   "source": [
    "def func(x):\n",
    "    a = list(str(x))\n",
    "    for i in range(0,len(a)//2):\n",
    "        if(a[i] == a[-1-i]):\n",
    "            continue\n",
    "        else:\n",
    "            return False\n",
    "    return True\n",
    "\n",
    "func(1234321)"
   ]
  },
  {
   "cell_type": "markdown",
   "id": "da477169",
   "metadata": {},
   "source": [
    "**Q4  [20 points]** Today is Monday, 31/01/2022. What will be the day of the week, month and year after 14,401,401 days. "
   ]
  },
  {
   "cell_type": "code",
   "execution_count": 4,
   "id": "103cf431",
   "metadata": {
    "scrolled": false
   },
   "outputs": [
    {
     "name": "stdout",
     "output_type": "stream",
     "text": [
      "day of the week: Monday\n",
      "month: October\n",
      "year: 41451\n"
     ]
    }
   ],
   "source": [
    "x = 14401401+31\n",
    "\n",
    "k = 2;\n",
    "\n",
    "yeni_yil = 2022\n",
    "\n",
    "while (x > 365):\n",
    "    if k%4 != 0:\n",
    "        x = x-365\n",
    "    else:\n",
    "        if(yeni_yil%100 == 0):\n",
    "            if(yeni_yil%400 == 0):\n",
    "                x = x-366\n",
    "            else:\n",
    "                x = x-365\n",
    "        else:\n",
    "            x = x-366\n",
    "    k+=1\n",
    "    yeni_yil = yeni_yil+1\n",
    "    \n",
    "k = k-1\n",
    "\n",
    "yeni_gun = \"\"\n",
    "\n",
    "yeni_ay = \"\"\n",
    "\n",
    "if(k % 4 != 0):\n",
    "    if(0<x<=31): \n",
    "        yeni_ay = \"January\"\n",
    "    elif(31<x<=59):\n",
    "        yeni_ay = \"February\"\n",
    "    elif(59<x<=90):\n",
    "        yeni_ay = \"March\"\n",
    "    elif(90<x<=120):\n",
    "        yeni_ay = \"April\"\n",
    "    elif(120<x<=151):\n",
    "        yeni_ay = \"May\"\n",
    "    elif(151<x<=181):\n",
    "        yeni_ay = \"June\"\n",
    "    elif(181<x<=212):\n",
    "        yeni_ay = \"July\"\n",
    "    elif(212<x<=243):\n",
    "        yeni_ay = \"August\"\n",
    "    elif(243<x<=273):\n",
    "        yeni_ay = \"September\"\n",
    "    elif(273<x<=304):\n",
    "        yeni_ay = \"October\"\n",
    "    elif(304<x<=334):\n",
    "        yeni_ay = \"November\"\n",
    "    elif(334<x<=365):\n",
    "        yeni_ay = \"December\"\n",
    "        \n",
    "else:\n",
    "    if(0<x<=31): \n",
    "        yeni_ay = \"January\"\n",
    "    elif(31<x<=60):\n",
    "        yeni_ay = \"February\"\n",
    "    elif(60<x<=91):\n",
    "        yeni_ay = \"March\"\n",
    "    elif(91<x<=121):\n",
    "        yeni_ay = \"April\"\n",
    "    elif(121<x<=152):\n",
    "        yeni_ay = \"May\"\n",
    "    elif(152<x<=182):\n",
    "        yeni_ay = \"June\"\n",
    "    elif(182<x<=213):\n",
    "        yeni_ay = \"July\"\n",
    "    elif(213<x<=244):\n",
    "        yeni_ay = \"August\"\n",
    "    elif(244<x<=274):\n",
    "        yeni_ay = \"September\"\n",
    "    elif(274<x<=305):\n",
    "        yeni_ay = \"October\"\n",
    "    elif(305<x<=335):\n",
    "        yeni_ay = \"November\"\n",
    "    elif(335<x<=366):\n",
    "        yeni_ay = \"December\"\n",
    "    \n",
    "\n",
    "gun = 14401401%7\n",
    "\n",
    "if(gun==0):\n",
    "    yeni_gun = \"Monday\"\n",
    "elif(gun==1):\n",
    "    yeni_gun = \"Tuesday\"\n",
    "elif(gun==2):\n",
    "    yeni_gun = \"Wednesday\"\n",
    "elif(gun==3):\n",
    "    yeni_gun = \"Thursday\"\n",
    "elif(gun==4):\n",
    "    yeni_gun = \"Friday\"\n",
    "elif(gun==5):\n",
    "    yeni_gun = \"Saturday\"\n",
    "elif(gun==6):\n",
    "    yeni_gun = \"Sunday\"\n",
    "    \n",
    "print(\"day of the week: \" + str(yeni_gun) + \"\\nmonth: \" + str(yeni_ay) +  \"\\nyear: \" + str(yeni_yil))\n"
   ]
  },
  {
   "cell_type": "markdown",
   "id": "70bcf9d5",
   "metadata": {},
   "source": [
    "**Q5 [20 Points]** \n",
    "Let A be an array as follows. 1,3,5,7,9,11,...,997,999 \n",
    "Let B be an array as follows. 3,5,7,9,11,13..,999,1001\n",
    "\n",
    "Find the Euclidian distance between these two arrays. \n",
    "You cannot use any library for this question.\n",
    "\n"
   ]
  },
  {
   "cell_type": "code",
   "execution_count": 4,
   "id": "fc4ec62d",
   "metadata": {},
   "outputs": [
    {
     "name": "stdout",
     "output_type": "stream",
     "text": [
      "44.72\n"
     ]
    }
   ],
   "source": [
    "def Euclidian_distance(m1,m2):\n",
    "    Euclidian = 0\n",
    "    \n",
    "    for k in range(len(m1)):\n",
    "        Euclidian += (m1[k]- m2[k])**2\n",
    "    Euclidian =  Euclidian**(1/2)\n",
    "    return ('{:.2f}'.format(Euclidian))\n",
    "\n",
    "A = list(range(1,1000,2))\n",
    "B = list(range(3,1002,2))\n",
    "\n",
    "print(Euclidian_distance(A,B))\n",
    "\n",
    "\n"
   ]
  },
  {
   "cell_type": "markdown",
   "id": "1bd0251e",
   "metadata": {},
   "source": [
    "### **Q6 [10 Points]** \n",
    "\n",
    "Define a function which returns the sum of numbers in a given number. For instance, for 1234, it should return 10 (1 + 2 + 3 + 4) "
   ]
  },
  {
   "cell_type": "code",
   "execution_count": 9,
   "id": "9e37f18a",
   "metadata": {},
   "outputs": [
    {
     "name": "stdout",
     "output_type": "stream",
     "text": [
      "39\n"
     ]
    }
   ],
   "source": [
    "def toplam(x):\n",
    "    t = 0\n",
    "    a = list(str(x))\n",
    "    for i in range(0,len(a)):\n",
    "        t+=int(a[i])\n",
    "    return t\n",
    "\n",
    "\n",
    "\n",
    "print(toplam(255227772))\n",
    "\n"
   ]
  },
  {
   "cell_type": "markdown",
   "id": "373b4676",
   "metadata": {},
   "source": [
    "**Q7 [10 Points]** Define a function which will take a parameter n and \"draw\" a trianglte which has a height of n, its to sides should be equal and the other line should habe 2n-1 length.\n",
    "For instance, if n=4, it should pritn the following\n",
    "    \n",
    "         x\n",
    "        xxx\n",
    "       xxxxx\n",
    "      xxxxxxx\n",
    " \n",
    "If n = 5, it should pritn the following\n",
    "\n",
    "        x\n",
    "       xxx\n",
    "      xxxxx\n",
    "     xxxxxxx\n",
    "    xxxxxxxxx"
   ]
  },
  {
   "cell_type": "code",
   "execution_count": 20,
   "id": "2f95a3a5",
   "metadata": {},
   "outputs": [
    {
     "name": "stdout",
     "output_type": "stream",
     "text": [
      "    x\n",
      "   xxx\n",
      "  xxxxx\n",
      " xxxxxxx\n",
      "\n",
      "************************\n",
      "     x\n",
      "    xxx\n",
      "   xxxxx\n",
      "  xxxxxxx\n",
      " xxxxxxxxx\n"
     ]
    }
   ],
   "source": [
    "def agac(x):\n",
    "    taban = 2*x-1\n",
    "    sayac = 1\n",
    "    \n",
    "    for i in range(x,0,-1):\n",
    "        sol = \"\"\n",
    "        orta = \"\"\n",
    "        for i in range(0,i):\n",
    "            sol += \" \"\n",
    "        for i in range(0,sayac):\n",
    "            orta += \"x\"\n",
    "        print(sol + orta)\n",
    "        sayac+=2\n",
    "            \n",
    "            \n",
    "agac(4)\n",
    "\n",
    "print(\"\\n************************\")\n",
    "\n",
    "agac(5)"
   ]
  },
  {
   "cell_type": "code",
   "execution_count": null,
   "id": "5239b882",
   "metadata": {},
   "outputs": [],
   "source": []
  }
 ],
 "metadata": {
  "kernelspec": {
   "display_name": "Python 3 (ipykernel)",
   "language": "python",
   "name": "python3"
  },
  "language_info": {
   "codemirror_mode": {
    "name": "ipython",
    "version": 3
   },
   "file_extension": ".py",
   "mimetype": "text/x-python",
   "name": "python",
   "nbconvert_exporter": "python",
   "pygments_lexer": "ipython3",
   "version": "3.9.7"
  }
 },
 "nbformat": 4,
 "nbformat_minor": 5
}
